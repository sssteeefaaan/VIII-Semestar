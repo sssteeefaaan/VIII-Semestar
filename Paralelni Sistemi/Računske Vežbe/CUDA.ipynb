{
  "nbformat": 4,
  "nbformat_minor": 0,
  "metadata": {
    "colab": {
      "name": "CUDA.ipynb",
      "provenance": [],
      "collapsed_sections": [
        "Wp09emJC2i7j",
        "gveIpETfSWZc"
      ],
      "authorship_tag": "ABX9TyM6LtBNnqOV6PrEFeUFnCpt",
      "include_colab_link": true
    },
    "kernelspec": {
      "name": "python3",
      "display_name": "Python 3"
    },
    "language_info": {
      "name": "python"
    },
    "accelerator": "GPU"
  },
  "cells": [
    {
      "cell_type": "markdown",
      "metadata": {
        "id": "view-in-github",
        "colab_type": "text"
      },
      "source": [
        "<a href=\"https://colab.research.google.com/github/sssteeefaaan/VIII-Semestar/blob/main/Paralelni%20Sistemi/Ra%C4%8Dunske%20Ve%C5%BEbe/Cuda.ipynb\" target=\"_parent\"><img src=\"https://colab.research.google.com/assets/colab-badge.svg\" alt=\"Open In Colab\"/></a>"
      ]
    },
    {
      "cell_type": "markdown",
      "source": [
        "# Instalacija (samo jednom)"
      ],
      "metadata": {
        "id": "Zuk7aQmEpTnl"
      }
    },
    {
      "cell_type": "code",
      "source": [
        "!apt-get --purge remove cuda nvidia* libnvidia-*\n",
        "!dpkg -l | grep cuda- | awk '{print $2}' | xargs -n1 dpkg --purge\n",
        "!apt-get remove cuda-*\n",
        "!apt autoremove\n",
        "!apt-get update"
      ],
      "metadata": {
        "id": "gsynRRwopVkM"
      },
      "execution_count": null,
      "outputs": []
    },
    {
      "cell_type": "code",
      "source": [
        "!wget https://developer.nvidia.com/compute/cuda/9.2/Prod/local_installers/cuda-repo-ubuntu1604-9-2-local_9.2.88-1_amd64 -O cuda-repo-ubuntu1604-9-2-local_9.2.88-1_amd64.deb\n",
        "!dpkg -i cuda-repo-ubuntu1604-9-2-local_9.2.88-1_amd64.deb\n",
        "!apt-key add /var/cuda-repo-9-2-local/7fa2af80.pub\n",
        "!apt-get update\n",
        "!apt-get install cuda-9.2"
      ],
      "metadata": {
        "id": "gMXNzyqCpXff"
      },
      "execution_count": null,
      "outputs": []
    },
    {
      "cell_type": "markdown",
      "source": [
        "# Instalacija (uvek)"
      ],
      "metadata": {
        "id": "Wp09emJC2i7j"
      }
    },
    {
      "cell_type": "code",
      "source": [
        "!pip install git+git://github.com/andreinechaev/nvcc4jupyter.git"
      ],
      "metadata": {
        "id": "MpJNhkn92nPe"
      },
      "execution_count": null,
      "outputs": []
    },
    {
      "cell_type": "code",
      "source": [
        "%load_ext nvcc_plugin"
      ],
      "metadata": {
        "id": "t6itxzqY2wnv"
      },
      "execution_count": null,
      "outputs": []
    },
    {
      "cell_type": "markdown",
      "source": [
        "# Računske Vežbe 1"
      ],
      "metadata": {
        "id": "gveIpETfSWZc"
      }
    },
    {
      "cell_type": "code",
      "source": [
        "#@title Sabiranje vektora\n",
        "%%cu\n",
        "#include <stdio.h>\n",
        "#define N 10000000\n",
        "#define BLOCK_SIZE 32\n",
        "#define GRID_SIZE 128\n",
        "\n",
        "__global__ void add(int* a, int* b, int *c, int count)\n",
        "{\n",
        "  int start = (blockIdx.x * blockDim.x + threadIdx.x) * count, end = start + count;\n",
        "  for(int i = start; i < end && i < N; i++)\n",
        "    c[i] = a[i] + b[i];\n",
        "}\n",
        "\n",
        "int main(void)\n",
        "{\n",
        "    int *a, *b, *c, *dev_a, *dev_b, *dev_c, amount =  N / (GRID_SIZE * BLOCK_SIZE) + 1;\n",
        " \n",
        "    a = (int*) malloc(N * sizeof(int));\n",
        "    b = (int*) malloc(N * sizeof(int));\n",
        " \n",
        "    for(int i = 0; i < N; i++)\n",
        "    {\n",
        "        a[i] = i + 1;\n",
        "        b[i] = (i + 1) * (i + 1);\n",
        "    }\n",
        "\n",
        "    cudaMalloc((void**) &dev_a, N * sizeof(int));\n",
        "    cudaMalloc((void**) &dev_b, N * sizeof(int));\n",
        "    cudaMalloc((void**) &dev_c, N * sizeof(int));\n",
        "\n",
        "    cudaMemcpy(dev_a, a, N * sizeof(int), cudaMemcpyHostToDevice);\n",
        "    cudaMemcpy(dev_b, b, N * sizeof(int), cudaMemcpyHostToDevice);\n",
        " \n",
        "    free(a);\n",
        "    free(b);\n",
        "    \n",
        "    printf(\"Start!\\n\");\n",
        "    add<<<GRID_SIZE, BLOCK_SIZE>>>(dev_a, dev_b, dev_c, amount);\n",
        "\n",
        "    c = (int*) malloc(N * sizeof(int));\n",
        "    cudaMemcpy(c, dev_c, N * sizeof(int), cudaMemcpyDeviceToHost);\n",
        " \n",
        "    printf(\"Done!\\n\");\n",
        "    free(c);\n",
        " \n",
        "    cudaFree(dev_a);\n",
        "    cudaFree(dev_b);\n",
        "    cudaFree(dev_c);\n",
        "    \n",
        "    return 0;\n",
        "}"
      ],
      "metadata": {
        "id": "_O07xEn9gWQH",
        "cellView": "form"
      },
      "execution_count": null,
      "outputs": []
    },
    {
      "cell_type": "markdown",
      "source": [
        "# Računske Vežbe 2"
      ],
      "metadata": {
        "id": "lKbFlhmsgYwu"
      }
    },
    {
      "cell_type": "code",
      "source": [
        "#@title Challenge: Funkcija koja može da se pozove i na CPU i na GPU\n",
        "%%cu\n",
        "#include <stdio.h>\n",
        "\n",
        "__host__ __device__ void hello(int* a, int b)\n",
        "{\n",
        "    *a = b;\n",
        "}\n",
        "\n",
        "__global__ void wrapper(int *a)\n",
        "{\n",
        "    hello(a, 10);\n",
        "}\n",
        "\n",
        "int main(int agrc, char** argv)\n",
        "{\n",
        "    int a, *dev_a;\n",
        "    cudaMalloc((void**) &dev_a, sizeof(int));\n",
        " \n",
        "    hello(&a, 5);\n",
        "    printf(\"Hello, %d\\n\", a);\n",
        " \n",
        "    wrapper<<<1,1>>>(dev_a);\n",
        "    cudaMemcpy(&a, dev_a, sizeof(int), cudaMemcpyDeviceToHost);\n",
        "    printf(\"Hello, %d\\n\", a);\n",
        " \n",
        "    cudaFree(dev_a);\n",
        "    return 0;\n",
        "}"
      ],
      "metadata": {
        "id": "KpwrTS9UgcYL",
        "cellView": "form"
      },
      "execution_count": null,
      "outputs": []
    },
    {
      "cell_type": "code",
      "source": [
        "#@title Koliko šestica ima u nizu\n",
        "%%cu\n",
        "#include <stdio.h>\n",
        "#define N 10000000\n",
        "#define BLOCK_SIZE 32\n",
        "#define GRID_SIZE 16\n",
        "#define THREAD_NUMB 512\n",
        "\n",
        "__device__ int compare(int a, int b)\n",
        "{\n",
        "    return a == b ? 1 : 0;\n",
        "}\n",
        "\n",
        "__global__ void count(int* array, int* result)\n",
        "{\n",
        "    int index = blockIdx.x * blockDim.x + threadIdx.x;\n",
        "    __shared__ int partial_result[BLOCK_SIZE];\n",
        "    partial_result[threadIdx.x] = 0;\n",
        " \n",
        "    while(index < N){\n",
        "        partial_result[threadIdx.x] += compare(array[index], 6);\n",
        "        index += THREAD_NUMB;\n",
        "    }\n",
        "\n",
        "    __syncthreads();\n",
        " \n",
        "    if(threadIdx.x == 0)\n",
        "    {\n",
        "        result[blockIdx.x] = 0;\n",
        "        for(int i = 0; i < blockDim.x; i++)\n",
        "          result[blockIdx.x] += partial_result[i];\n",
        "    }\n",
        "}\n",
        "\n",
        "__host__ void compute(int* array, int *result)\n",
        "{\n",
        "    int *d_array, *h_partial, *d_partial;\n",
        " \n",
        "    cudaMalloc((void**) &d_array, N * sizeof(int));\n",
        "    cudaMalloc((void**) &d_partial, GRID_SIZE * sizeof(int));\n",
        " \n",
        "    cudaMemcpy(d_array, array, N * sizeof(int), cudaMemcpyHostToDevice);\n",
        " \n",
        "    count<<<GRID_SIZE, BLOCK_SIZE>>>(d_array, d_partial);\n",
        " \n",
        "    h_partial = (int*) malloc(GRID_SIZE * sizeof(int));\n",
        " \n",
        "    cudaMemcpy(h_partial, d_partial, GRID_SIZE * sizeof(int), cudaMemcpyDeviceToHost);\n",
        "    \n",
        "    cudaFree(d_array);\n",
        "    cudaFree(d_partial);\n",
        " \n",
        "    for(int i = 0; i < GRID_SIZE; i++)\n",
        "      *result += h_partial[i];\n",
        "\n",
        "    free(h_partial);\n",
        "}\n",
        "\n",
        "int main(void)\n",
        "{\n",
        "    int result = 0,\n",
        "      *array = (int*) malloc(N * sizeof(int));\n",
        " \n",
        "    for(int i = 0; i < N; i++)\n",
        "      array[i] = i % 2 + 6;\n",
        " \n",
        "    compute(array, &result);\n",
        "    free(array);\n",
        " \n",
        "    printf(\"U nizu ima %d sestica.\\n\", result);\n",
        " \n",
        "    return 0;\n",
        "}"
      ],
      "metadata": {
        "id": "GRXF7t07-Dlj",
        "cellView": "form"
      },
      "execution_count": null,
      "outputs": []
    },
    {
      "cell_type": "code",
      "source": [
        "#@title Transponovanje matrice\n",
        "%%cu\n",
        "#include <stdio.h>\n",
        "#define N 64\n",
        "#define M 96\n",
        "#define BLOCK_SIZE 32\n",
        "\n",
        "__global__ void transpose_matrix(int* matrix_in, int* matrix_out)\n",
        "{\n",
        "    int thread_id_x = blockIdx.x * blockDim.x + threadIdx.x,\n",
        "        thread_id_y = blockIdx.y * blockDim.y  + threadIdx.y;\n",
        "\n",
        "    __shared__ int temp[BLOCK_SIZE][BLOCK_SIZE + 1];\n",
        " \n",
        "    for(int i = thread_id_x; i < N; i += blockDim.x * gridDim.x)\n",
        "        for(int j = thread_id_y; j < M; j += blockDim.y * gridDim.y)\n",
        "          temp[i % BLOCK_SIZE][j % BLOCK_SIZE] = matrix_in[i * M + j];\n",
        " \n",
        "    __syncthreads();\n",
        " \n",
        "    for(int j = thread_id_y; j < M; j += blockDim.y * gridDim.y)\n",
        "        for(int i = thread_id_x; i < N; i += blockDim.x * gridDim.x)\n",
        "            matrix_out[j * N + i] = temp[i % BLOCK_SIZE][j % BLOCK_SIZE];\n",
        "}\n",
        "\n",
        "__host__ void transpose(int* matrix_in, int* matrix_out)\n",
        "{\n",
        "    int* d_matrix_in, *d_matrix_out;\n",
        " \n",
        "    cudaMalloc((void**) &d_matrix_in, N * M * sizeof(int));\n",
        "    cudaMalloc((void**) &d_matrix_out, M * N * sizeof(int));\n",
        " \n",
        "    cudaMemcpy(d_matrix_in, matrix_in, N * M * sizeof(int), cudaMemcpyHostToDevice);\n",
        "\n",
        "    dim3 blockSize(BLOCK_SIZE, BLOCK_SIZE);\n",
        "    dim3 gridSize(N / BLOCK_SIZE, M / BLOCK_SIZE);\n",
        " \n",
        "    transpose_matrix<<<gridSize, blockSize>>>(d_matrix_in, d_matrix_out);\n",
        " \n",
        "    cudaMemcpy(matrix_out, d_matrix_out, M * N * sizeof(int), cudaMemcpyDeviceToHost);\n",
        "\n",
        "    cudaFree(d_matrix_in);\n",
        "    cudaFree(d_matrix_out);\n",
        "}\n",
        "\n",
        "int main(void)\n",
        "{\n",
        "    int *matrix_in, *matrix_out;\n",
        " \n",
        "    matrix_in = (int*) malloc(sizeof(int) * N * M);\n",
        "    for(int i = 0; i < N; i++)\n",
        "      for(int j = 0; j < M; j++)\n",
        "            matrix_in[i * M + j] = i * M + j;\n",
        "\n",
        "    matrix_out = (int*) malloc(sizeof(int) * M * N);\n",
        " \n",
        "    transpose(matrix_in, matrix_out);\n",
        "    free(matrix_in);\n",
        " \n",
        "    for(int i = 0; i < M; i++)\n",
        "    {\n",
        "        printf(\"|\\t\");\n",
        "        for(int j = 0; j < N; j++)\n",
        "          printf(\"%d\\t\", matrix_out[i * N + j]);\n",
        "        printf(\"|\\n\");\n",
        "    }\n",
        "    free(matrix_out);\n",
        " \n",
        "    return 0;\n",
        "}"
      ],
      "metadata": {
        "id": "e35bLvdIZAXb",
        "cellView": "form"
      },
      "execution_count": null,
      "outputs": []
    },
    {
      "cell_type": "markdown",
      "source": [
        "# Računske Vežbe 3"
      ],
      "metadata": {
        "id": "kOhhsUeNowZF"
      }
    },
    {
      "cell_type": "code",
      "source": [
        ""
      ],
      "metadata": {
        "id": "3_0KcUMpoz12"
      },
      "execution_count": null,
      "outputs": []
    }
  ]
}